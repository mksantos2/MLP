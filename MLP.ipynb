{
  "nbformat": 4,
  "nbformat_minor": 0,
  "metadata": {
    "colab": {
      "name": "MLP.ipynb",
      "version": "0.3.2",
      "provenance": [],
      "collapsed_sections": [],
      "toc_visible": true
    },
    "language_info": {
      "codemirror_mode": {
        "name": "ipython",
        "version": 3
      },
      "file_extension": ".py",
      "mimetype": "text/x-python",
      "name": "python",
      "nbconvert_exporter": "python",
      "pygments_lexer": "ipython3",
      "version": "3.6.7"
    },
    "kernelspec": {
      "display_name": "Python 3",
      "language": "python",
      "name": "python3"
    }
  },
  "cells": [
    {
      "metadata": {
        "id": "rkqvaVl_NICy",
        "colab_type": "text"
      },
      "cell_type": "markdown",
      "source": [
        "# Objetivos deste trabalho\n",
        "- Familiarizar-se com a biblioteca PyTorch\n",
        "- Definir arquiteturas MLP simples em PyTorch\n",
        "- Treinar utilizando CIFAR10, testando diferentes arquiteturas, parâmetros, funções de loss e otimizadores\n",
        "- Comparar os resultados obtidos utilizando apenas Perpceptrons"
      ]
    },
    {
      "metadata": {
        "id": "rNeRYBlnNIC2",
        "colab_type": "code",
        "colab": {}
      },
      "cell_type": "code",
      "source": [
        "%matplotlib inline\n",
        "\n",
        "import numpy as np \n",
        "import matplotlib.pyplot as plt\n",
        "\n",
        "import torch\n",
        "import torch.nn as nn\n",
        "from torch.utils.data import DataLoader\n",
        "\n",
        "import torchvision\n",
        "import torchvision.transforms as transforms"
      ],
      "execution_count": 0,
      "outputs": []
    },
    {
      "metadata": {
        "id": "lnJ3PA4ENIDA",
        "colab_type": "code",
        "outputId": "1eb2705d-09b4-41e3-942f-ae5e57a308b1",
        "colab": {
          "base_uri": "https://localhost:8080/",
          "height": 54
        }
      },
      "cell_type": "code",
      "source": [
        "# Carregar os datasets\n",
        "\n",
        "transform=transforms.Compose([\n",
        "    transforms.Grayscale(num_output_channels=1),\n",
        "    transforms.ToTensor()\n",
        "])\n",
        "\n",
        "dataset_train = torchvision.datasets.CIFAR10(root='./data', train=True,\n",
        "                                        download=True, transform=transform)\n",
        "\n",
        "dataset_test = torchvision.datasets.CIFAR10(root='./data', train=False,\n",
        "                                        download=True, transform=transform)\n",
        "\n",
        "dataset_valid, dataset_train = torch.utils.data.random_split(dataset_train, [5000, 45000])"
      ],
      "execution_count": 2,
      "outputs": [
        {
          "output_type": "stream",
          "text": [
            "Files already downloaded and verified\n",
            "Files already downloaded and verified\n"
          ],
          "name": "stdout"
        }
      ]
    },
    {
      "metadata": {
        "id": "x97-R2fxNIDG",
        "colab_type": "code",
        "colab": {}
      },
      "cell_type": "code",
      "source": [
        "train_loader = DataLoader(dataset=dataset_train, shuffle=True, batch_size=256)\n",
        "valid_loader = DataLoader(dataset=dataset_valid, shuffle=False, batch_size=256)\n",
        "test_loader = DataLoader(dataset=dataset_test, shuffle=False, batch_size=256)"
      ],
      "execution_count": 0,
      "outputs": []
    },
    {
      "metadata": {
        "id": "n2kEsoD-NIDL",
        "colab_type": "code",
        "colab": {}
      },
      "cell_type": "code",
      "source": [
        "# Definir a arquitetura MLP\n",
        "\n",
        "class MLP(nn.Module):\n",
        "    def __init__(self):\n",
        "        super(MLP, self).__init__()\n",
        "        self.fc1 = nn.Linear(32*32, 80)\n",
        "        self.fc2 = nn.Linear(80, 70)\n",
        "        self.fc3= nn.Linear(70, 50)\n",
        "        self.fc4= nn.Linear(50, 10)  \n",
        "        self.activation_function = nn.ReLU()\n",
        "        \n",
        "    def forward(self, x):\n",
        "        x = x.view(-1, 32*32)\n",
        "        x = self.activation_function(self.fc1(x))\n",
        "        x = self.activation_function(self.fc2(x))\n",
        "        x = self.activation_function(self.fc3(x))\n",
        "        x = self.activation_function(self.fc4(x))\n",
        "        #x = self.activation_function(self.fc5(x))\n",
        "        return x"
      ],
      "execution_count": 0,
      "outputs": []
    },
    {
      "metadata": {
        "id": "NC8JZneqNIDO",
        "colab_type": "code",
        "outputId": "30a2333d-f5d7-4a8c-e4ab-52d4d820ce03",
        "colab": {
          "base_uri": "https://localhost:8080/",
          "height": 145
        }
      },
      "cell_type": "code",
      "source": [
        "model = MLP()\n",
        "print(model)"
      ],
      "execution_count": 5,
      "outputs": [
        {
          "output_type": "stream",
          "text": [
            "MLP(\n",
            "  (fc1): Linear(in_features=1024, out_features=80, bias=True)\n",
            "  (fc2): Linear(in_features=80, out_features=70, bias=True)\n",
            "  (fc3): Linear(in_features=70, out_features=50, bias=True)\n",
            "  (fc4): Linear(in_features=50, out_features=10, bias=True)\n",
            "  (activation_function): ReLU()\n",
            ")\n"
          ],
          "name": "stdout"
        }
      ]
    },
    {
      "metadata": {
        "id": "CxXXF-iNNIDS",
        "colab_type": "code",
        "colab": {}
      },
      "cell_type": "code",
      "source": [
        "# Definir otimizador e loss\n",
        "# Nota: testar outros otimizadores e funções de loss (em particular cross entropy)\n",
        "\n",
        "optimizer = torch.optim.Adam(model.parameters(), lr = 0.001)\n",
        "\n",
        "#optimizer = torch.optim.SGD(model.parameters(), lr = 0.01)\n",
        "\n",
        "loss_fn = torch.nn.CrossEntropyLoss()\n",
        "\n",
        "#loss_fn = torch.nn.MSELoss()"
      ],
      "execution_count": 0,
      "outputs": []
    },
    {
      "metadata": {
        "id": "uhpgpfaoNIDV",
        "colab_type": "code",
        "outputId": "8bb4b441-e8c3-485e-8684-bbb525e194ad",
        "colab": {
          "base_uri": "https://localhost:8080/",
          "height": 1835
        }
      },
      "cell_type": "code",
      "source": [
        "# Realizar o treinamento aqui\n",
        "\n",
        "epochs = 100\n",
        "one_hot = torch.eye(10)\n",
        "media_losses = []\n",
        "media_ac = []\n",
        "\n",
        "\n",
        "for epoch in range(epochs): \n",
        "  \n",
        "  model.train()\n",
        "  losses = []\n",
        "  correct = 0\n",
        "  #total = 0\n",
        "  for img, category in train_loader:\n",
        "        \n",
        "    #zera o gradiente no começo do batch\n",
        "    optimizer.zero_grad()\n",
        "    \n",
        "    ys = model(img)\n",
        "    \n",
        "    #one_hot_category = one_hot[category] # apenas para quando for usar MSELoss\n",
        "\n",
        "    loss = loss_fn(ys, category #one_hot_category)\n",
        "    \n",
        "    \n",
        "\n",
        "    loss.backward()\n",
        "    \n",
        "    losses.append(loss.item())\n",
        "\n",
        "    optimizer.step()\n",
        "    \n",
        "    #_, predicted = torch.max(ys.data, 1) # pega o segundo argumento que retorna de torch.max\n",
        "    # correct += (predicted == category).sum().item()\n",
        "    #total += category.size(0)\n",
        "    \n",
        "    \n",
        "    #print(one_hot_category, category)\n",
        "    \n",
        "  \n",
        " #ac = correct/len(train_loader)\n",
        "  #media_ac.append(ac)\n",
        "   #print(\"epoch : {}, train loss : {:.4f}, acc_train : {:.2f}%\".format(epoch, np.mean(losses), ac))\n",
        "  \n",
        "  print(\"Época: \", epoch+1,\" \", \"Loss: \", np.mean(losses)) # importante mencionar que está sendo printada a média dos losses\n",
        "    \n",
        "  media_losses.append(np.mean(losses)) # losses para o plot mais embaixo\n",
        "  \n",
        "  "
      ],
      "execution_count": 7,
      "outputs": [
        {
          "output_type": "stream",
          "text": [
            "Época:  1   Loss:  2.2172561572356657\n",
            "Época:  2   Loss:  2.125988792289387\n",
            "Época:  3   Loss:  2.0804849314418705\n",
            "Época:  4   Loss:  2.0484395108439704\n",
            "Época:  5   Loss:  1.983842713589018\n",
            "Época:  6   Loss:  1.945270985364914\n",
            "Época:  7   Loss:  1.919635377146981\n",
            "Época:  8   Loss:  1.9006481590596112\n",
            "Época:  9   Loss:  1.8805067424069752\n",
            "Época:  10   Loss:  1.865356064655564\n",
            "Época:  11   Loss:  1.851443275809288\n",
            "Época:  12   Loss:  1.836578407748179\n",
            "Época:  13   Loss:  1.8267145793546329\n",
            "Época:  14   Loss:  1.8149135939099572\n",
            "Época:  15   Loss:  1.808216628703204\n",
            "Época:  16   Loss:  1.7979534769600087\n",
            "Época:  17   Loss:  1.7888574342836032\n",
            "Época:  18   Loss:  1.7785804183645681\n",
            "Época:  19   Loss:  1.7677046047015623\n",
            "Época:  20   Loss:  1.768273357640613\n",
            "Época:  21   Loss:  1.7603198052807287\n",
            "Época:  22   Loss:  1.7499599301002242\n",
            "Época:  23   Loss:  1.7480204288255086\n",
            "Época:  24   Loss:  1.7385176901112904\n",
            "Época:  25   Loss:  1.7257301326502452\n",
            "Época:  26   Loss:  1.7253597541288896\n",
            "Época:  27   Loss:  1.7254106422716922\n",
            "Época:  28   Loss:  1.7158384465358474\n",
            "Época:  29   Loss:  1.7141663107005032\n",
            "Época:  30   Loss:  1.7053628787398338\n",
            "Época:  31   Loss:  1.698365767571059\n",
            "Época:  32   Loss:  1.6983908983794125\n",
            "Época:  33   Loss:  1.693583669987592\n",
            "Época:  34   Loss:  1.6852836134758862\n",
            "Época:  35   Loss:  1.6797649745236745\n",
            "Época:  36   Loss:  1.6762300404635342\n",
            "Época:  37   Loss:  1.6748658391562374\n",
            "Época:  38   Loss:  1.67446876114065\n",
            "Época:  39   Loss:  1.6666891954161904\n",
            "Época:  40   Loss:  1.6635777300054377\n",
            "Época:  41   Loss:  1.653798637742346\n",
            "Época:  42   Loss:  1.6547390148043633\n",
            "Época:  43   Loss:  1.6481910097328099\n",
            "Época:  44   Loss:  1.644680174236948\n",
            "Época:  45   Loss:  1.644575322893533\n",
            "Época:  46   Loss:  1.6378687979145483\n",
            "Época:  47   Loss:  1.6349376311356372\n",
            "Época:  48   Loss:  1.6271566958589987\n",
            "Época:  49   Loss:  1.6285395662892947\n",
            "Época:  50   Loss:  1.6292396221648564\n",
            "Época:  51   Loss:  1.619199387729168\n",
            "Época:  52   Loss:  1.6161358011039821\n",
            "Época:  53   Loss:  1.6134036501700229\n",
            "Época:  54   Loss:  1.6113258132880384\n",
            "Época:  55   Loss:  1.6063222648067907\n",
            "Época:  56   Loss:  1.6036141704429279\n",
            "Época:  57   Loss:  1.5984822870655493\n",
            "Época:  58   Loss:  1.5969051027839833\n",
            "Época:  59   Loss:  1.5923792923038655\n",
            "Época:  60   Loss:  1.5904853743585674\n",
            "Época:  61   Loss:  1.5874763009223072\n",
            "Época:  62   Loss:  1.5862492668357762\n",
            "Época:  63   Loss:  1.5814307088201696\n",
            "Época:  64   Loss:  1.577004524794492\n",
            "Época:  65   Loss:  1.578442757102576\n",
            "Época:  66   Loss:  1.5753106772899628\n",
            "Época:  67   Loss:  1.5718786987391384\n",
            "Época:  68   Loss:  1.5672820183363827\n",
            "Época:  69   Loss:  1.5668059810996056\n",
            "Época:  70   Loss:  1.5660914975133808\n",
            "Época:  71   Loss:  1.560425771231001\n",
            "Época:  72   Loss:  1.5543379533019932\n",
            "Época:  73   Loss:  1.5540897270495242\n",
            "Época:  74   Loss:  1.5594341578808697\n",
            "Época:  75   Loss:  1.5532112446698276\n",
            "Época:  76   Loss:  1.5477433692325244\n",
            "Época:  77   Loss:  1.5436144044453448\n",
            "Época:  78   Loss:  1.5455520938743244\n",
            "Época:  79   Loss:  1.5421427515420048\n",
            "Época:  80   Loss:  1.5368249287659472\n",
            "Época:  81   Loss:  1.537282641638409\n",
            "Época:  82   Loss:  1.5319562832062894\n",
            "Época:  83   Loss:  1.5313491577451879\n",
            "Época:  84   Loss:  1.5329430679028684\n",
            "Época:  85   Loss:  1.532365309921178\n",
            "Época:  86   Loss:  1.529266361485828\n",
            "Época:  87   Loss:  1.5291698127985\n",
            "Época:  88   Loss:  1.5212261507456952\n",
            "Época:  89   Loss:  1.5197580151937224\n",
            "Época:  90   Loss:  1.517680480398915\n",
            "Época:  91   Loss:  1.5179369063539938\n",
            "Época:  92   Loss:  1.512625046751716\n",
            "Época:  93   Loss:  1.5096126280047677\n",
            "Época:  94   Loss:  1.5127123560417781\n",
            "Época:  95   Loss:  1.511704757809639\n",
            "Época:  96   Loss:  1.5091380517591129\n",
            "Época:  97   Loss:  1.5033784048123793\n",
            "Época:  98   Loss:  1.5065144686536356\n",
            "Época:  99   Loss:  1.4982121546160092\n",
            "Época:  100   Loss:  1.4947791187600656\n"
          ],
          "name": "stdout"
        }
      ]
    },
    {
      "metadata": {
        "id": "CQ9ptdfY2dM4",
        "colab_type": "code",
        "outputId": "539c38c5-e273-4952-e8ad-9ae0c95af66d",
        "colab": {
          "base_uri": "https://localhost:8080/",
          "height": 295
        }
      },
      "cell_type": "code",
      "source": [
        "#graphs\n",
        "\n",
        "import matplotlib.pyplot as plt\n",
        "plt.xlabel(\"Epoca\")\n",
        "plt.ylabel(\"Loss\")\n",
        "plt.title(\"Gráfico Loss\")\n",
        "plt.plot(media_losses)\n",
        "plt.show()\n",
        "\n"
      ],
      "execution_count": 8,
      "outputs": [
        {
          "output_type": "display_data",
          "data": {
            "image/png": "[encoded data removed]",
            "text/plain": [
              "<Figure size 432x288 with 1 Axes>"
            ]
          },
          "metadata": {
            "tags": []
          }
        }
      ]
    },
    {
      "metadata": {
        "id": "1yeqVuZJNIDY",
        "colab_type": "code",
        "outputId": "5f73b7c8-7036-44ba-f898-e764295ed519",
        "colab": {
          "base_uri": "https://localhost:8080/",
          "height": 35
        }
      },
      "cell_type": "code",
      "source": [
        "# Avaliar o modelo aqui (no conjunto de avaliação)\n",
        "correct = 0\n",
        "valid_losses = []\n",
        "total = 0\n",
        "\n",
        "model.eval()\n",
        "\n",
        "with torch.no_grad():\n",
        "    for images, category in valid_loader:\n",
        "                y = model(images)\n",
        "\n",
        "                #one_hot_category = one_hot[category]\n",
        "                loss = loss_fn(y, category)\n",
        "\n",
        "\n",
        "                valid_losses.append(loss.item())\n",
        "\n",
        "                _, predicted = torch.max(y.data, 1)\n",
        "                correct += (predicted == category).sum().item()\n",
        "                total += category.size(0)\n",
        "      \n",
        "#ac = correct/len(valid_loader)\n",
        "ac = correct/total\n",
        "print(\"Loss_valid: \", np.mean(valid_losses), \" \", \"Accuracy_valid: \", ac)\n",
        "\n",
        "correct = 0"
      ],
      "execution_count": 9,
      "outputs": [
        {
          "output_type": "stream",
          "text": [
            "Loss_valid:  1.8225641965866088   Accuracy_valid:  0.3982\n"
          ],
          "name": "stdout"
        }
      ]
    },
    {
      "metadata": {
        "id": "PaANB3Nu1RcB",
        "colab_type": "code",
        "outputId": "f5c26729-07ea-4e36-a98c-d655bec75a4b",
        "colab": {
          "base_uri": "https://localhost:8080/",
          "height": 35
        }
      },
      "cell_type": "code",
      "source": [
        "# Testar o modelo aqui \n",
        "\n",
        "\n",
        "test_losses = []\n",
        "total = 0\n",
        "\n",
        "with torch.no_grad():\n",
        "    for images, category in test_loader:\n",
        "                yt = model(images)\n",
        "\n",
        "                #one_hot_category = one_hot[category]\n",
        "                loss = loss_fn(yt, category)\n",
        "\n",
        "\n",
        "                test_losses.append(loss.item())\n",
        "\n",
        "                _, predicted = torch.max(yt.data, 1)\n",
        "                correct += (predicted == category).sum().item()\n",
        "                total += category.size(0)\n",
        "\n",
        "\n",
        "\n",
        "ac = correct/total \n",
        "\n",
        "#ac = correct/len(test_loader)\n",
        "print(\"Loss_test: \", np.mean(test_losses), \" \", \"Accuracy_test: \", ac)"
      ],
      "execution_count": 10,
      "outputs": [
        {
          "output_type": "stream",
          "text": [
            "Loss_test:  1.8141047567129136   Accuracy_test:  0.391\n"
          ],
          "name": "stdout"
        }
      ]
    },
    {
      "metadata": {
        "id": "yCcRWR6BD2A7",
        "colab_type": "code",
        "outputId": "bc108e2b-db1d-487c-f1fe-374ecbcb81ce",
        "colab": {
          "base_uri": "https://localhost:8080/",
          "height": 35
        }
      },
      "cell_type": "code",
      "source": [
        "# Resultados obtidos:\n",
        "\n",
        "# ---> MLP com 1 camada(s)(20) oculta(s) de 20 perceptrons + SGD + MSELoss + ReLU(sem particionar o dataset de treino): \n",
        "###### Loss_train = 0.08425  \n",
        "###### Loss_valid = 0       ###### Accuracy_valid = 0\n",
        "###### Loss_test  = 0.08443 ###### Accuracy_test =  0.5806\n",
        "\n",
        "\n",
        "# ---> MLP com 1 camada(s)(20) oculta(s) de 20 perceptrons + SGD + MSELoss + ReLU(particionando o dataset de treino*): \n",
        "###### Loss_train = 0.0846 \n",
        "###### Loss_valid = 0.0847 ###### Accuracy_valid = 0.2844\n",
        "###### Loss_test  = 0.0849 ###### Accuracy_test  = 0.2868\n",
        "\n",
        "\n",
        "# ---> MLP com 1 camada(s)(20) oculta(s) de 20 perceptrons + SGD + CrossEntropyLoss* + ReLU(particionando o dataset de treino):\n",
        "###### Loss_train = 1.9290 \n",
        "###### Loss_valid = 1.9698 ###### Accuracy_valid = 0.336\n",
        "###### Loss_test  = 1.9513 ###### Accuracy_test  = 0.3353\n",
        "\n",
        "\n",
        "\n",
        "# ---> MLP com 1 camada(s)(20) oculta(s) de 20 perceptrons + Adam + CrossEntropyLoss* + ReLU(particionando o dataset de treino):\n",
        "###### Loss_train = 1.9606 \n",
        "###### Loss_valid = 2.0047 ###### Accuracy_valid = 0.3042\n",
        "###### Loss_test  = 2.0014 ###### Accuracy_test  = 0.3032\n",
        "\n",
        "\n",
        "# ---> MLP com 2 camada(s) oculta(s)(50 e 20) de 20 perceptrons + Adam + CrossEntropyLoss + ReLU(particionando o dataset de treino):\n",
        "###### Loss_train = 1.7311 \n",
        "###### Loss_valid = 1.8388 ###### Accuracy_valid = 0.3738\n",
        "###### Loss_test  = 1.8464 ###### Accuracy_test  = 0.3585\n",
        "\n",
        "\n",
        "# ---> MLP com 2 camada(s) oculta(s)(50 e 20) de 20 perceptrons + SGD* + MSELoss* + ReLU(particionando o dataset de treino):\n",
        "###### Loss_train = 0.0936 \n",
        "###### Loss_valid = 0.0938 ###### Accuracy_valid = 0.18\n",
        "###### Loss_test  = 0.0934 ###### Accuracy_test  = 0.1816\n",
        "\n",
        "\n",
        "# ---> MLP com 4 camada(s) ocultas(100 80 50 e 20) de 20 perceptrons + SGD + MSELoss + ReLU(particionando o dataset de treino):\n",
        "###### Loss_train = 1.9197 \n",
        "###### Loss_valid = 1.9108 ###### Accuracy_valid = 0.3156\n",
        "###### Loss_test  = 1.9309 ###### Accuracy_test  = 0.3026\n",
        "\n",
        "\n",
        "#****** ---> MLP com 4 camada(s) ocultas(100 80 50 e 20) de 20 perceptrons + Adam* + CrossEntropyLoss* + ReLU(particionando o dataset de treino):\n",
        "###### Loss_train = 1.5833 \n",
        "###### Loss_valid = 1.9346 ###### Accuracy_valid = 0.358\n",
        "###### Loss_test  = 1.9337 ###### Accuracy_test  = 0.3708\n",
        "\n",
        "\n",
        "\n",
        "\n",
        "'''test\n",
        "'''\n"
      ],
      "execution_count": 11,
      "outputs": [
        {
          "output_type": "execute_result",
          "data": {
            "text/plain": [
              "'s\\nsfafs\\n'"
            ]
          },
          "metadata": {
            "tags": []
          },
          "execution_count": 11
        }
      ]
    },
    {
      "metadata": {
        "id": "ImnggM95Gb8L",
        "colab_type": "code",
        "colab": {}
      },
      "cell_type": "code",
      "source": [
        ""
      ],
      "execution_count": 0,
      "outputs": []
    },
    {
      "metadata": {
        "id": "hiB6jvf0VIL6",
        "colab_type": "text"
      },
      "cell_type": "markdown",
      "source": [
        "#Conclusões\n",
        "\n",
        "Depois de testar os diversos parâmetros da MLP é possível perceber a tamanha diversidade e opções para moldá-la de acordo com o domínio ou projeto, o que é muito bom comparado ao modo que faziamos no perceptron. No primeiro trabalho foi difícil e demorado de fazer cada neurônio separado e depois juntá-los, porém no final tinhamos a melhor resposta possível(tirando o fato de ajustar apenas o neta). \n",
        "\n",
        "Entretanto, na MLP, é possível alterar diversos aspectos, como a arquitetura, tipo de loss, tipo de optimizador, porém é mais fácil e rápido de implementar, graças ao pytorch. Por outro lado, se perde muito tempo achando os parâmetros certos para que a rede consiga atingir o máximo de acurácia possível(no caso esperar que o treinamento acabe). \n",
        "\n",
        "\n",
        "É preciso mencionar também que a acurácia baixou drasticamente com o particionamento dos exemplos de treinamento e avaliação. O que eu já sabia que ia acontecer, entretanto seja melhor botar mais exemplos no treinamento já que eu apenas separei alguns para a avaliação.\n",
        "\n",
        "E sobre o modelo final que escolhi como um dos melhores, foi o que possuia 4 camadas ocultas, sendo elas respectivamente de tamanhos: 100, 80, 50, 20. Eu optei em fazer uma escada como foi recomendado em aula, justamente pelo fato do aprendizado da rede neural ser como uma, onde se aprende o básico e depois irá subir até convergir para uma saída/porta. \n",
        "\n",
        "Eu comecei a usar o MSELoss mas depois de tentar todas as combinações cheguei a conclusão que o CrossEntropy é muito bom para a rede, pois observei que a Loss converge muito mais rápido do que o MSE. E também como vimos em aula o CrossEntropy é o mais recomendado para problemas de classificação.\n",
        "\n",
        "O otimizador que estou usando é o Adam, que foi muito bem combinado com o CrossEntropy.(Dados das redes célula a cima)\n",
        "\n",
        "Depois de definir qual loss e qual otimizador, testei várias arquiteturas. A partir da 3 camada oculta não dava tanto avanço nos resultados. Então optei por deixar ela pequena com 3 camadas de 80, 70 e 50, respectvamente. E os resultados foram os seguintes:\n",
        "\n",
        "\n",
        "#MLP(\n",
        "  (fc1): Linear(in_features=1024, out_features=80, bias=True)\n",
        "  (fc2): Linear(in_features=80, out_features=70, bias=True)\n",
        "  (fc3): Linear(in_features=70, out_features=50, bias=True)\n",
        "  (fc4): Linear(in_features=50, out_features=10, bias=True)\n",
        "  (activation_function): ReLU()\n",
        "#)\n",
        "\n",
        "#-----\n",
        "\n",
        "\n",
        ">Média do Loss no treinamento: 1.4947\n",
        "\n",
        "\n",
        ">Média da Loss na Avaliação:     1.8225\n",
        "\n",
        "\n",
        ">Média da Loss no Teste:            1.8141\n",
        "\n",
        "\n",
        "#-----\n",
        "\n",
        "\n",
        ">Acurácia na Avaliação:               39,82%\n",
        "\n",
        ">Acurácia no Teste:                      39,1%\n",
        "\n"
      ]
    }
  ]
}